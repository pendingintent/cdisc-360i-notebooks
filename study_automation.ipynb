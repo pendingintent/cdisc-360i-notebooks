{
 "cells": [
  {
   "cell_type": "markdown",
   "id": "76ee52e3-4586-405d-8afb-e92f6b33d3a4",
   "metadata": {},
   "source": [
    "# Study Workflow Automation #"
   ]
  },
  {
   "cell_type": "markdown",
   "id": "1196f371-be5b-4dab-a26a-47a4588b5609",
   "metadata": {},
   "source": [
    "## Project Setup ##"
   ]
  },
  {
   "cell_type": "markdown",
   "id": "06d544ea-70df-47dc-8949-c511d67d4c00",
   "metadata": {},
   "source": [
    "These cells involve the setup of a Study and automate steps in the workflow that can occur prior to subject enrollment."
   ]
  },
  {
   "cell_type": "markdown",
   "id": "59f2c690-8b33-466f-9059-8869a7e4f730",
   "metadata": {},
   "source": [
    "**Pre-requisites**\n",
    "\n",
    "1. git installed\n",
    "2. Python >= 3.12"
   ]
  },
  {
   "cell_type": "markdown",
   "id": "a75bdabe-e766-4b8d-b627-a17ed013f834",
   "metadata": {},
   "source": [
    "**Install dependencies: ipywdigets**"
   ]
  },
  {
   "cell_type": "code",
   "execution_count": 1,
   "id": "f6559df6-7e9e-43fc-bcbe-f16182bd78af",
   "metadata": {},
   "outputs": [
    {
     "name": "stdout",
     "output_type": "stream",
     "text": [
      "/Users/dmoreland/projects/cdisc-360i-notebooks/venv/bin/python\n",
      "Python 3.13.7\n"
     ]
    }
   ],
   "source": [
    "# Debug statements\n",
    "!which python\n",
    "!python --version"
   ]
  },
  {
   "cell_type": "code",
   "execution_count": 2,
   "id": "b3e5dc29-7984-4f2c-80ae-a97eb4c04258",
   "metadata": {},
   "outputs": [],
   "source": [
    "# imports\n",
    "import os\n",
    "import urllib\n",
    "from urllib.parse import urlparse\n",
    "import ipywidgets as widgets\n",
    "import subprocess"
   ]
  },
  {
   "cell_type": "code",
   "execution_count": 19,
   "id": "4d814afd-6670-488b-90f6-d6c8e602ac03",
   "metadata": {},
   "outputs": [],
   "source": [
    "# Global variables\n",
    "PROJECT_DIR = '/Users/dmoreland/projects/cdisc-360i-notebooks'\n",
    "DATA_DIR = os.path.join(PROJECT_DIR, 'data')\n",
    "PROJECT_LIST = []"
   ]
  },
  {
   "cell_type": "markdown",
   "id": "ef1cf6fe-51e0-435a-8fd0-303859132a0a",
   "metadata": {},
   "source": [
    "**Define functions to be used throughout study setup workflow**"
   ]
  },
  {
   "cell_type": "code",
   "execution_count": 4,
   "id": "b9b7bfa9-3ea9-4980-9ede-68928a5aa95f",
   "metadata": {},
   "outputs": [],
   "source": [
    "# Define functions\n",
    "def change_working_dir(working_dir):\n",
    "    pwd = os.getcwd()\n",
    "\n",
    "    if pwd == working_dir:\n",
    "        print(\"INFO: Already in the {} project directory...\".format(working_dir))\n",
    "    else:\n",
    "        print(\"INFO: Changing to the {} working directory...\".format(working_dir))\n",
    "        try:\n",
    "            os.chdir(working_dir)\n",
    "        except FileNotFoundError:\n",
    "            print(\"ERROR: {} does not exist...\".format(working_dir))\n",
    "\n",
    "def git_clone(repo):\n",
    "    project = urlparse(repo)[2]\n",
    "    project_dir = project[project.rindex('/')+1: project.rindex('.')]\n",
    "    print(project_dir)\n",
    "    if project_dir:\n",
    "        print(\"INFO: {} already exists.  Skipping clone...\".format(project_dir))\n",
    "    else:\n",
    "        print(\"INFO: Cloning repository {}...\".format(project_dir))\n",
    "        !git clone repo\n",
    "    return project_dir"
   ]
  },
  {
   "cell_type": "markdown",
   "id": "5259880c-c72e-4be2-88d3-2293493cb7f2",
   "metadata": {},
   "source": [
    "## Upload and Validate the Study Design USDM JSON file ##"
   ]
  },
  {
   "cell_type": "code",
   "execution_count": 23,
   "id": "c6898dda-c3e4-462a-8be9-25ade65cdde3",
   "metadata": {},
   "outputs": [
    {
     "name": "stdout",
     "output_type": "stream",
     "text": [
      "['/Users/dmoreland/projects/cdisc-360i-notebooks']\n"
     ]
    }
   ],
   "source": [
    "PROJECT_LIST.append(PROJECT_DIR)\n",
    "print(PROJECT_LIST)"
   ]
  },
  {
   "cell_type": "code",
   "execution_count": 5,
   "id": "a36b3e67-f46b-4d6c-85dc-f1a75008c2f6",
   "metadata": {},
   "outputs": [
    {
     "name": "stdout",
     "output_type": "stream",
     "text": [
      "INFO: Already in the /Users/dmoreland/projects/cdisc-360i-notebooks project directory...\n",
      "/Users/dmoreland/projects/cdisc-360i-notebooks\n",
      "Cloning into 'cdisc-json-validation'...\n",
      "remote: Enumerating objects: 85, done.\u001b[K\n",
      "remote: Counting objects: 100% (85/85), done.\u001b[K\n",
      "remote: Compressing objects: 100% (63/63), done.\u001b[K\n",
      "remote: Total 85 (delta 39), reused 61 (delta 19), pack-reused 0 (from 0)\u001b[K\n",
      "Receiving objects: 100% (85/85), 1.26 MiB | 17.26 MiB/s, done.\n",
      "Resolving deltas: 100% (39/39), done.\n",
      "cdisc-json-validation\n",
      "INFO: Changing to the /Users/dmoreland/projects/cdisc-360i-notebooks/cdisc-json-validation working directory...\n",
      "/Users/dmoreland/projects/cdisc-360i-notebooks/cdisc-json-validation\n"
     ]
    }
   ],
   "source": [
    "# Change to the directory into which to clone repo\n",
    "change_working_dir(PROJECT_DIR)\n",
    "\n",
    "print(os.getcwd())\n",
    "\n",
    "# Clone repo\n",
    "repo = 'https://github.com/pendingintent/cdisc-json-validation.git'\n",
    "#working_dir = git_clone('https://github.com/pendingintent/cdisc-json-validation.git')\n",
    "!git clone {repo}\n",
    "project = urlparse(repo)[2]\n",
    "working_dir = project[project.rindex('/')+1: project.rindex('.')]\n",
    "print(working_dir)\n",
    "change_working_dir(os.path.join(PROJECT_DIR, working_dir))\n",
    "print(os.getcwd())"
   ]
  },
  {
   "cell_type": "code",
   "execution_count": 6,
   "id": "d0ef505a-50b5-4d68-a417-531aa137fd33",
   "metadata": {},
   "outputs": [],
   "source": [
    "# Install project dependencies\n",
    "!pip install -r requirements.txt --quiet"
   ]
  },
  {
   "cell_type": "code",
   "execution_count": 7,
   "id": "444ddaa4-c3a0-45d2-88a4-4d3c4004a6bf",
   "metadata": {},
   "outputs": [
    {
     "name": "stdout",
     "output_type": "stream",
     "text": [
      "/Users/dmoreland/projects/cdisc-360i-notebooks/data\n",
      "INFO: /Users/dmoreland/projects/cdisc-360i-notebooks/data exists...\n"
     ]
    },
    {
     "data": {
      "text/plain": [
       "'/Users/dmoreland/projects/cdisc-360i-notebooks/cdisc-json-validation'"
      ]
     },
     "execution_count": 7,
     "metadata": {},
     "output_type": "execute_result"
    }
   ],
   "source": [
    "# Create a data directory, if required\n",
    "print(DATA_DIR)\n",
    "if os.path.exists(DATA_DIR):\n",
    "    print(\"INFO: {} exists...\".format(DATA_DIR))\n",
    "else:\n",
    "    print(\"INFO: Creating directory {}...\".format(DATA_DIR))\n",
    "    os.mkdir(DATA_DIR)\n",
    "\n",
    "os.getcwd()"
   ]
  },
  {
   "cell_type": "code",
   "execution_count": 8,
   "id": "77db18d8-11ff-4538-811c-2f707d4a3026",
   "metadata": {},
   "outputs": [
    {
     "name": "stdout",
     "output_type": "stream",
     "text": [
      "/Users/dmoreland/projects/cdisc-360i-notebooks/cdisc-json-validation\n"
     ]
    }
   ],
   "source": [
    "# Verify correct current working directory\n",
    "print(os.getcwd())"
   ]
  },
  {
   "cell_type": "code",
   "execution_count": 9,
   "id": "410576e2-50be-4c56-bf56-fbf27d3d0321",
   "metadata": {},
   "outputs": [
    {
     "data": {
      "application/vnd.jupyter.widget-view+json": {
       "model_id": "3a3b572e2dbf4f22aa7054d6e6b86e84",
       "version_major": 2,
       "version_minor": 0
      },
      "text/plain": [
       "FileUpload(value=(), description='Upload')"
      ]
     },
     "metadata": {},
     "output_type": "display_data"
    }
   ],
   "source": [
    "# Upload json file\n",
    "# TODO: Replace mercury with ipywidgets FileUpload for simpler implmentation with less dependencies\n",
    "#file = mr.File(label=\"File upload\", max_file_size=\"10MB\")\n",
    "widgets.FileUpload(\n",
    "    accept=\".json\",\n",
    "    multiple=False\n",
    ")\n",
    "\n",
    "uploader = widgets.FileUpload()\n",
    "display(uploader)"
   ]
  },
  {
   "cell_type": "code",
   "execution_count": 12,
   "id": "dcab0d40-84b5-49ba-8ce0-46890d975a1c",
   "metadata": {},
   "outputs": [],
   "source": [
    "uploaded_file = uploader.value[0]\n",
    "uploaded_file_name = uploaded_file['name']\n",
    "target_file = os.path.join(DATA_DIR, uploaded_file_name)\n",
    "with open(target_file, \"wb\") as fp:\n",
    "    fp.write(uploaded_file.content)\n"
   ]
  },
  {
   "cell_type": "code",
   "execution_count": 15,
   "id": "ad6afacb-1bc2-497f-882c-e4fff81d584e",
   "metadata": {},
   "outputs": [
    {
     "name": "stdout",
     "output_type": "stream",
     "text": [
      "INFO: Already in the /Users/dmoreland/projects/cdisc-360i-notebooks/cdisc-json-validation project directory...\n",
      "INFO: Validation of /Users/dmoreland/projects/cdisc-360i-notebooks/data/pilot_LLZT_protocol.json is successful...\n"
     ]
    }
   ],
   "source": [
    "# Execute the validation script\n",
    "#import subprocess\n",
    "\n",
    "change_working_dir(os.path.join(PROJECT_DIR, working_dir))\n",
    "result = subprocess.run([\"python\", \"validate.py\", target_file], capture_output=True, text=True)\n",
    "\n",
    "\n",
    "if \"Validation successful\" not in result.stdout:\n",
    "    print(\"ERROR: Validation of {} not successful...\".format(target_file))\n",
    "else:\n",
    "    print(\"INFO: Validation of {} is successful...\".format(target_file))\n",
    "#print('stdout:', result.stdout)\n",
    "#print('stderr:', result.stderr)"
   ]
  },
  {
   "cell_type": "markdown",
   "id": "68276db5-faa5-4da4-aa50-127ffb985a91",
   "metadata": {},
   "source": [
    "**If validation of the USDM JSON file is successful, the file can be used in following downstream programs**"
   ]
  },
  {
   "cell_type": "code",
   "execution_count": 22,
   "id": "c89c1317-0a07-4611-a0ec-479b5b71acdb",
   "metadata": {},
   "outputs": [
    {
     "name": "stdout",
     "output_type": "stream",
     "text": [
      "INFO: Already in the /Users/dmoreland/projects/cdisc-360i-notebooks project directory...\n"
     ]
    }
   ],
   "source": [
    "change_working_dir(PROJECT_DIR)\n",
    "PROJECT_LIST = []"
   ]
  },
  {
   "cell_type": "code",
   "execution_count": null,
   "id": "de8c9ff3-d3e7-4a79-8c65-99724f3c51a9",
   "metadata": {},
   "outputs": [],
   "source": []
  },
  {
   "cell_type": "code",
   "execution_count": null,
   "id": "f6b21770-5580-4311-adb6-3fdf45e893b2",
   "metadata": {},
   "outputs": [],
   "source": []
  }
 ],
 "metadata": {
  "kernelspec": {
   "display_name": "Python 3 (ipykernel)",
   "language": "python",
   "name": "python3"
  },
  "language_info": {
   "codemirror_mode": {
    "name": "ipython",
    "version": 3
   },
   "file_extension": ".py",
   "mimetype": "text/x-python",
   "name": "python",
   "nbconvert_exporter": "python",
   "pygments_lexer": "ipython3",
   "version": "3.13.7"
  }
 },
 "nbformat": 4,
 "nbformat_minor": 5
}
